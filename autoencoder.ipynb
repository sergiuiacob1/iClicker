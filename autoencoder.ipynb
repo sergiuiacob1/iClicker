{
 "cells": [
  {
   "cell_type": "code",
   "execution_count": 1,
   "metadata": {},
   "outputs": [],
   "source": [
    "import time\n",
    "import torch\n",
    "import cv2\n",
    "import os\n",
    "import json\n",
    "import csv\n",
    "import math\n",
    "from math import exp, sqrt, pi, floor\n",
    "import seaborn as sns\n",
    "import random\n",
    "import numpy as np\n",
    "from scipy.stats import multivariate_normal\n",
    "from matplotlib import pyplot as plt\n",
    "%matplotlib inline"
   ]
  },
  {
   "cell_type": "markdown",
   "metadata": {},
   "source": [
    "# Generating heatmaps"
   ]
  },
  {
   "cell_type": "code",
   "execution_count": null,
   "metadata": {},
   "outputs": [],
   "source": [
    "def _gaussian(\n",
    "        size=3, sigma=0.25, amplitude=1, normalize=False, width=None,\n",
    "        height=None, sigma_horz=None, sigma_vert=None, mean_horz=0.5,\n",
    "        mean_vert=0.5):\n",
    "    # handle some defaults\n",
    "    if width is None:\n",
    "        width = size\n",
    "    if height is None:\n",
    "        height = size\n",
    "    if sigma_horz is None:\n",
    "        sigma_horz = sigma\n",
    "    if sigma_vert is None:\n",
    "        sigma_vert = sigma\n",
    "    center_x = mean_horz * width + 0.5\n",
    "    center_y = mean_vert * height + 0.5\n",
    "    gauss = np.empty((height, width), dtype=np.float32)\n",
    "    # generate kernel\n",
    "    for i in range(height):\n",
    "        for j in range(width):\n",
    "            gauss[i][j] = amplitude * math.exp(-(math.pow((j + 1 - center_x) / (\n",
    "                sigma_horz * width), 2) / 2.0 + math.pow((i + 1 - center_y) / (sigma_vert * height), 2) / 2.0))\n",
    "    if normalize:\n",
    "        gauss = gauss / np.sum(gauss)\n",
    "    return gauss"
   ]
  },
  {
   "cell_type": "code",
   "execution_count": null,
   "metadata": {},
   "outputs": [],
   "source": [
    "def hm_from_lm(image, point, sigma):\n",
    "        ul = [math.floor(point[0] - 3 * sigma), math.floor(point[1] - 3 * sigma)]\n",
    "        br = [math.floor(point[0] + 3 * sigma), math.floor(point[1] + 3 * sigma)]\n",
    "        if (ul[0] > image.shape[1] or ul[1] >\n",
    "                image.shape[0] or br[0] < 1 or br[1] < 1):\n",
    "            return image\n",
    "        size = 6 * sigma + 1\n",
    "        g = _gaussian(size)\n",
    "        g_x = [int(max(1, -ul[0])), int(min(br[0], image.shape[1])) -\n",
    "               int(max(1, ul[0])) + int(max(1, -ul[0]))]\n",
    "        g_y = [int(max(1, -ul[1])), int(min(br[1], image.shape[0])) -\n",
    "               int(max(1, ul[1])) + int(max(1, -ul[1]))]\n",
    "        img_x = [int(max(1, ul[0])), int(min(br[0], image.shape[1]))]\n",
    "        img_y = [int(max(1, ul[1])), int(min(br[1], image.shape[0]))]\n",
    "        assert (g_x[0] > 0 and g_y[1] > 0)\n",
    "        image[img_y[0] - 1:img_y[1], img_x[0] - 1:img_x[1]\n",
    "              ] = image[img_y[0] - 1:img_y[1], img_x[0] - 1:img_x[1]] + g[g_y[0] - 1:g_y[1], g_x[0] - 1:g_x[1]]\n",
    "        image[image > 1] = 1\n",
    "        return image"
   ]
  },
  {
   "cell_type": "code",
   "execution_count": null,
   "metadata": {},
   "outputs": [],
   "source": [
    "def get_img_center_and_radius(img_name):\n",
    "    eye_centers = {}\n",
    "    with open('crowdpupil/results.csv', newline='') as csvfile:\n",
    "        spamreader = csv.reader(csvfile, delimiter=';')\n",
    "        for row in spamreader:\n",
    "            eye_centers[row[0]] = (int(row[1]), int(row[2]))\n",
    "            \n",
    "    with open('crowdpupil/eye_radius.json', 'r') as fp:\n",
    "        eye_radius = json.load(fp)\n",
    "            \n",
    "    return (eye_centers[img_name], sum(eye_radius.values())/len(eye_radius))"
   ]
  },
  {
   "cell_type": "code",
   "execution_count": null,
   "metadata": {},
   "outputs": [],
   "source": [
    "eye_images = os.listdir('./crowdpupil/images')"
   ]
  },
  {
   "cell_type": "code",
   "execution_count": null,
   "metadata": {},
   "outputs": [],
   "source": [
    "img_name = random.choice(eye_images)\n",
    "img = cv2.imread('./crowdpupil/images/' + img_name)\n",
    "img = cv2.cvtColor(img, cv2.COLOR_BGR2GRAY)\n",
    "plt.imshow(img, cmap='gray')"
   ]
  },
  {
   "cell_type": "code",
   "execution_count": null,
   "metadata": {},
   "outputs": [],
   "source": [
    "def generate_heatmap_from_img (img_name):\n",
    "    img = cv2.imread('crowdpupil/images/' + img_name)\n",
    "    img = cv2.cvtColor(img, cv2.COLOR_BGR2GRAY)\n",
    "    center, radius = get_img_center_and_radius(img_name)\n",
    "\n",
    "    m1 = center\n",
    "    s1 = np.eye(2) * radius ** 1.5\n",
    "    k1 = multivariate_normal(mean=m1, cov=s1)\n",
    "\n",
    "    # create a grid of (x,y) coordinates at which to evaluate the kernels\n",
    "    x = np.linspace(0, img.shape[1], img.shape[1])\n",
    "    y = np.linspace(0, img.shape[0], img.shape[0])\n",
    "    xx, yy = np.meshgrid(x,y)\n",
    "\n",
    "    # evaluate kernels at grid points\n",
    "    xxyy = np.c_[xx.ravel(), yy.ravel()]\n",
    "    zz = k1.pdf(xxyy)\n",
    "\n",
    "    # reshape and plot image\n",
    "    heatmap = zz.reshape(img.shape)\n",
    "    a = heatmap * 255 / np.amax(heatmap)\n",
    "    cv2.imwrite('crowdpupil/heatmaps/h_' + img_name, heatmap * 255 / np.amax(heatmap))"
   ]
  },
  {
   "cell_type": "code",
   "execution_count": null,
   "metadata": {},
   "outputs": [],
   "source": [
    "os.makedirs('crowdpupil/heatmaps', exist_ok=True)\n",
    "for index, img in enumerate(eye_images):\n",
    "    generate_heatmap_from_img(img)\n",
    "    if index % 50 == 0:\n",
    "        print (f'Done {index}/{len(eye_images)}')"
   ]
  },
  {
   "cell_type": "markdown",
   "metadata": {},
   "source": [
    "# Use AutoEncoder with the heatmaps "
   ]
  },
  {
   "cell_type": "code",
   "execution_count": 2,
   "metadata": {},
   "outputs": [],
   "source": [
    "import torch\n",
    "import numpy as np\n",
    "from torchvision import datasets\n",
    "import torchvision.transforms as transforms"
   ]
  },
  {
   "cell_type": "code",
   "execution_count": 47,
   "metadata": {},
   "outputs": [
    {
     "name": "stdout",
     "output_type": "stream",
     "text": [
      "Done 0/0\n",
      "Done 100/100\n",
      "Done 200/200\n",
      "Done 300/300\n",
      "Done 400/400\n",
      "Done 500/500\n",
      "Done 600/600\n",
      "Done 700/700\n",
      "792\n"
     ]
    }
   ],
   "source": [
    "# convert data to torch.FloatTensor\n",
    "transform = transforms.ToTensor()\n",
    "# load all of the heatmaps\n",
    "h_list = os.listdir('./crowdpupil/heatmaps')\n",
    "all_data = []\n",
    "for index, h in enumerate(h_list):\n",
    "    if index % 100 == 0:\n",
    "        print (f'Done {index}/{len(all_data)}')\n",
    "    img = cv2.imread('./crowdpupil/heatmaps/' + h, cv2.IMREAD_GRAYSCALE)\n",
    "    # resize the image to a fixed dimension\n",
    "    img = cv2.resize(img, (1000//2, 776//2), interpolation=cv2.INTER_AREA)\n",
    "    img = img.reshape(1, 776//2, 1000//2)\n",
    "    img = img/255\n",
    "    img = torch.from_numpy(img).float()\n",
    "    all_data.append(img)\n",
    "    \n",
    "print (len(all_data))"
   ]
  },
  {
   "cell_type": "code",
   "execution_count": 48,
   "metadata": {},
   "outputs": [
    {
     "name": "stdout",
     "output_type": "stream",
     "text": [
      "633\n"
     ]
    }
   ],
   "source": [
    "# split train test\n",
    "random.shuffle(all_data)\n",
    "split_size = 0.8\n",
    "train_size = int(len(all_data) * split_size)\n",
    "train_data = all_data[:train_size]\n",
    "test_data = all_data[train_size:]\n",
    "\n",
    "print (len(train_data))"
   ]
  },
  {
   "cell_type": "code",
   "execution_count": 49,
   "metadata": {},
   "outputs": [],
   "source": [
    "# Create training and test dataloaders\n",
    "\n",
    "num_workers = 0\n",
    "# how many samples per batch to load\n",
    "batch_size = 32\n",
    "\n",
    "# prepare data loaders\n",
    "train_loader = torch.utils.data.DataLoader(train_data, batch_size=batch_size, num_workers=num_workers)\n",
    "test_loader = torch.utils.data.DataLoader(test_data, batch_size=batch_size, num_workers=num_workers)"
   ]
  },
  {
   "cell_type": "markdown",
   "metadata": {},
   "source": [
    "## Visualise the data"
   ]
  },
  {
   "cell_type": "code",
   "execution_count": 50,
   "metadata": {},
   "outputs": [
    {
     "data": {
      "text/plain": [
       "<matplotlib.image.AxesImage at 0x1a4059b990>"
      ]
     },
     "execution_count": 50,
     "metadata": {},
     "output_type": "execute_result"
    },
    {
     "data": {
      "image/png": "[encoded data removed]",
      "text/plain": [
       "<Figure size 360x360 with 1 Axes>"
      ]
     },
     "metadata": {
      "needs_background": "light"
     },
     "output_type": "display_data"
    }
   ],
   "source": [
    "import matplotlib.pyplot as plt\n",
    "%matplotlib inline\n",
    "    \n",
    "# obtain one batch of training images\n",
    "dataiter = iter(train_loader)\n",
    "images = dataiter.next()\n",
    "images = images.numpy()\n",
    "\n",
    "# get one image from the batch\n",
    "img = np.squeeze(random.choice(images))\n",
    "\n",
    "fig = plt.figure(figsize = (5,5)) \n",
    "ax = fig.add_subplot(111)\n",
    "ax.imshow(img, cmap='gray')"
   ]
  },
  {
   "cell_type": "code",
   "execution_count": 51,
   "metadata": {},
   "outputs": [
    {
     "name": "stdout",
     "output_type": "stream",
     "text": [
      "ConvAutoencoder(\n",
      "  (conv1): Conv2d(1, 16, kernel_size=(3, 3), stride=(1, 1), padding=(1, 1))\n",
      "  (conv2): Conv2d(16, 4, kernel_size=(3, 3), stride=(1, 1), padding=(1, 1))\n",
      "  (pool): MaxPool2d(kernel_size=2, stride=2, padding=0, dilation=1, ceil_mode=False)\n",
      "  (t_conv1): ConvTranspose2d(4, 16, kernel_size=(2, 2), stride=(2, 2))\n",
      "  (t_conv2): ConvTranspose2d(16, 1, kernel_size=(2, 2), stride=(2, 2))\n",
      ")\n"
     ]
    }
   ],
   "source": [
    "import torch.nn as nn\n",
    "import torch.nn.functional as F\n",
    "\n",
    "# define the NN architecture\n",
    "class ConvAutoencoder(nn.Module):\n",
    "    def __init__(self):\n",
    "        super(ConvAutoencoder, self).__init__()\n",
    "        ## encoder layers ##\n",
    "        # conv layer (depth from 1 --> 16), 3x3 kernels\n",
    "        self.conv1 = nn.Conv2d(1, 16, 3, padding=1)  \n",
    "        # conv layer (depth from 16 --> 4), 3x3 kernels\n",
    "        self.conv2 = nn.Conv2d(16, 4, 3, padding=1)\n",
    "        # pooling layer to reduce x-y dims by two; kernel and stride of 2\n",
    "        self.pool = nn.MaxPool2d(2, 2)\n",
    "        \n",
    "        ## decoder layers ##\n",
    "        ## a kernel of 2 and a stride of 2 will increase the spatial dims by 2\n",
    "        self.t_conv1 = nn.ConvTranspose2d(4, 16, 2, stride=2)\n",
    "        self.t_conv2 = nn.ConvTranspose2d(16, 1, 2, stride=2)\n",
    "\n",
    "\n",
    "    def forward(self, x):\n",
    "        ## encode ##\n",
    "        # add hidden layers with relu activation function\n",
    "        # and maxpooling after\n",
    "        x = F.relu(self.conv1(x))\n",
    "        x = self.pool(x)\n",
    "        # add second hidden layer\n",
    "        x = F.relu(self.conv2(x))\n",
    "        x = self.pool(x)  # compressed representation\n",
    "        \n",
    "        ## decode ##\n",
    "        # add transpose conv layers, with relu activation function\n",
    "        x = F.relu(self.t_conv1(x))\n",
    "        # output layer (with sigmoid for scaling from 0 to 1)\n",
    "        x = F.sigmoid(self.t_conv2(x))\n",
    "                \n",
    "        return x\n",
    "\n",
    "# initialize the NN\n",
    "model = ConvAutoencoder()\n",
    "print(model)"
   ]
  },
  {
   "cell_type": "code",
   "execution_count": 52,
   "metadata": {},
   "outputs": [],
   "source": [
    "# specify loss function\n",
    "criterion = nn.MSELoss()\n",
    "\n",
    "# specify loss function\n",
    "optimizer = torch.optim.Adam(model.parameters(), lr=0.001)"
   ]
  },
  {
   "cell_type": "code",
   "execution_count": 53,
   "metadata": {},
   "outputs": [
    {
     "name": "stdout",
     "output_type": "stream",
     "text": [
      "Epoch: 1 \tTraining Loss: 8.534450 \t Training time: 71.007151\n",
      "Epoch: 2 \tTraining Loss: 7.990970 \t Training time: 65.348957\n",
      "Epoch: 3 \tTraining Loss: 7.129950 \t Training time: 67.596570\n",
      "Epoch: 4 \tTraining Loss: 5.663889 \t Training time: 70.278433\n",
      "Epoch: 5 \tTraining Loss: 3.615065 \t Training time: 65.649640\n",
      "Epoch: 6 \tTraining Loss: 1.718863 \t Training time: 63.578554\n",
      "Epoch: 7 \tTraining Loss: 0.641477 \t Training time: 64.131327\n",
      "Epoch: 8 \tTraining Loss: 0.254209 \t Training time: 84.414018\n",
      "Epoch: 9 \tTraining Loss: 0.129183 \t Training time: 66.019002\n",
      "Epoch: 10 \tTraining Loss: 0.079587 \t Training time: 65.703435\n"
     ]
    }
   ],
   "source": [
    "# number of epochs to train the model\n",
    "n_epochs = 10\n",
    "\n",
    "for epoch in range(1, n_epochs+1):\n",
    "    # monitor training loss\n",
    "    train_loss = 0.0\n",
    "    start_time = time.time()\n",
    "    \n",
    "    ###################\n",
    "    # train the model #\n",
    "    ###################\n",
    "    for data in train_loader:\n",
    "        # _ stands in for labels, here\n",
    "        # no need to flatten images\n",
    "        images = data\n",
    "        # clear the gradients of all optimized variables\n",
    "        optimizer.zero_grad()\n",
    "        # forward pass: compute predicted outputs by passing inputs to the model\n",
    "        outputs = model(images)\n",
    "        # calculate the loss\n",
    "        loss = criterion(outputs, images)\n",
    "        # backward pass: compute gradient of the loss with respect to model parameters\n",
    "        loss.backward()\n",
    "        # perform a single optimization step (parameter update)\n",
    "        optimizer.step()\n",
    "        # update running training loss\n",
    "        train_loss += loss.item() * images.size(0)\n",
    "            \n",
    "    # print avg training statistics \n",
    "    train_loss = train_loss/len(train_loader)\n",
    "    print('Epoch: {} \\tTraining Loss: {:.6f} \\t Training time: {:.6f}'.format(\n",
    "        epoch, \n",
    "        train_loss,\n",
    "        time.time() - start_time\n",
    "        ))"
   ]
  },
  {
   "cell_type": "code",
   "execution_count": 33,
   "metadata": {},
   "outputs": [
    {
     "data": {
      "image/png": "[encoded data removed]",
      "text/plain": [
       "<Figure size 1800x288 with 20 Axes>"
      ]
     },
     "metadata": {
      "needs_background": "light"
     },
     "output_type": "display_data"
    }
   ],
   "source": [
    "# obtain one batch of test images\n",
    "dataiter = iter(test_loader)\n",
    "images = dataiter.next()\n",
    "\n",
    "# get sample outputs\n",
    "output = model(images)\n",
    "# prep images for display\n",
    "images = images.numpy()\n",
    "\n",
    "# output is resized into a batch of iages\n",
    "output = output.view(batch_size, 1, 776//2, 1000//2)\n",
    "# use detach when it's an output that requires_grad\n",
    "output = output.detach().numpy()\n",
    "\n",
    "# plot the first ten input images and then reconstructed images\n",
    "fig, axes = plt.subplots(nrows=2, ncols=10, sharex=True, sharey=True, figsize=(25,4))\n",
    "\n",
    "# input images on top row, reconstructions on bottom\n",
    "for images, row in zip([images, output], axes):\n",
    "    for img, ax in zip(images, row):\n",
    "        ax.imshow(np.squeeze(img), cmap='gray')\n",
    "        ax.get_xaxis().set_visible(False)\n",
    "        ax.get_yaxis().set_visible(False)"
   ]
  },
  {
   "cell_type": "code",
   "execution_count": null,
   "metadata": {},
   "outputs": [],
   "source": [
    "plt.imshow(output[0].reshape(776, 1000) * 255, cmap='gray')"
   ]
  },
  {
   "cell_type": "code",
   "execution_count": null,
   "metadata": {},
   "outputs": [],
   "source": []
  }
 ],
 "metadata": {
  "kernelspec": {
   "display_name": "Python 3",
   "language": "python",
   "name": "python3"
  },
  "language_info": {
   "codemirror_mode": {
    "name": "ipython",
    "version": 3
   },
   "file_extension": ".py",
   "mimetype": "text/x-python",
   "name": "python",
   "nbconvert_exporter": "python",
   "pygments_lexer": "ipython3",
   "version": "3.7.5"
  }
 },
 "nbformat": 4,
 "nbformat_minor": 4
}
